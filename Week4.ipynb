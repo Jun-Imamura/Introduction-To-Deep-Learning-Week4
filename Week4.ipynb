{
 "cells": [
  {
   "cell_type": "markdown",
   "id": "dbab6566-f8cf-4236-932b-25f3db04f0ad",
   "metadata": {},
   "source": [
    "# About the Project\n",
    "In this assignment, Kaggle competition called [Natural Language Processing with Disaster Tweets](https://www.kaggle.com/c/nlp-getting-started/overview) is used to try RNN learned in the week4 lecture.\n",
    "\n",
    "***\n",
    "## Problem Description\n",
    "In this competition, 10000 hand labeled tweet data are used. Some of them are related to natural disaster and others are not.  \n",
    "We are asked to develop machine learning algorithm to differentiate whether those tweets are actually based on natural disasters ore not.\n",
    "\n",
    "This prediction algorithm may be used to monitor occurence of natural disaster in automated way.\n",
    "\n",
    "In the dataset, Ground truth \"positive\" label indicates that the tweet is actually deribed from natual disaster events.  \n",
    "Unlike image classification, this competition is related to natual language processing."
   ]
  },
  {
   "cell_type": "markdown",
   "id": "48d1ab7b-e435-4181-b16b-7bf5227916ef",
   "metadata": {},
   "source": [
    "## Import Libraries"
   ]
  },
  {
   "cell_type": "code",
   "execution_count": 1,
   "id": "5638d84c-b4f2-4f24-8faf-94e95052b621",
   "metadata": {
    "tags": []
   },
   "outputs": [],
   "source": [
    "import re\n",
    "import string\n",
    "# for computation\n",
    "import numpy as np\n",
    "import pandas as pd\n",
    "# for visualization\n",
    "import matplotlib.pyplot as plt\n",
    "import seaborn as sns\n",
    "# for machien learning\n",
    "import tensorflow as tf\n",
    "import keras\n",
    "\n",
    "from tensorflow.keras.layers import LSTM, Embedding, Dense, Dropout, Layer, Input, Bidirectional, GlobalMaxPooling1D, BatchNormalization\n",
    "from tensorflow.keras.models import Sequential, Model\n",
    "from tensorflow.keras.preprocessing.sequence import pad_sequences\n",
    "from tensorflow.keras.preprocessing.text import one_hot, Tokenizer\n",
    "from tensorflow.keras.optimizers import SGD, Adam\n",
    "from tensorflow.keras.callbacks import EarlyStopping\n",
    "from tensorflow.keras import regularizers\n",
    "\n",
    "from sklearn.model_selection import train_test_split\n",
    "from sklearn.metrics import accuracy_score, precision_score, recall_score, f1_score, confusion_matrix\n",
    "from sklearn.feature_extraction.text import TfidfVectorizer\n",
    "from sklearn.naive_bayes import MultinomialNB\n",
    "\n",
    "import nltk\n",
    "from nltk.stem import WordNetLemmatizer\n",
    "\n",
    "from wordcloud import STOPWORDS"
   ]
  },
  {
   "cell_type": "markdown",
   "id": "d10aa13b-6a30-455e-92d3-e91b030de91c",
   "metadata": {},
   "source": [
    "### Import NLTK(Natural Language Toolkit) Data\n",
    "As we need preprocessing against raw data, let's use dedicated library for this to avoid re-inventing the wheels!"
   ]
  },
  {
   "cell_type": "code",
   "execution_count": 2,
   "id": "a2f3513d-ae7a-4d7e-8498-608f84a70108",
   "metadata": {
    "tags": []
   },
   "outputs": [
    {
     "name": "stderr",
     "output_type": "stream",
     "text": [
      "[nltk_data] Downloading package punkt to\n",
      "[nltk_data]     C:\\Users\\imach\\AppData\\Roaming\\nltk_data...\n",
      "[nltk_data]   Package punkt is already up-to-date!\n",
      "[nltk_data] Downloading package averaged_perceptron_tagger to\n",
      "[nltk_data]     C:\\Users\\imach\\AppData\\Roaming\\nltk_data...\n",
      "[nltk_data]   Package averaged_perceptron_tagger is already up-to-\n",
      "[nltk_data]       date!\n",
      "[nltk_data] Downloading package wordnet to\n",
      "[nltk_data]     C:\\Users\\imach\\AppData\\Roaming\\nltk_data...\n",
      "[nltk_data]   Package wordnet is already up-to-date!\n"
     ]
    },
    {
     "data": {
      "text/plain": [
       "True"
      ]
     },
     "execution_count": 2,
     "metadata": {},
     "output_type": "execute_result"
    }
   ],
   "source": [
    "# import work_tokernizer\n",
    "nltk.download('punkt')\n",
    "# import pos_tag\n",
    "nltk.download('averaged_perceptron_tagger')\n",
    "# import wordnet (lexical database of semantic relations)\n",
    "nltk.download('wordnet')"
   ]
  },
  {
   "cell_type": "markdown",
   "id": "3e080286-4f79-4615-8a29-5f8dfc2bee25",
   "metadata": {},
   "source": [
    "***\n",
    "## EDA\n",
    "In this section, Explanatory Data Analysis is conducted.\n",
    "\n",
    "Let's firstly load dataset and then see basic information using `df.info()` function.  \n",
    "As we can see, keyword and location contain invalid data."
   ]
  },
  {
   "cell_type": "code",
   "execution_count": 3,
   "id": "41571112-b8bc-469e-9246-2a1245205987",
   "metadata": {
    "tags": []
   },
   "outputs": [],
   "source": [
    "train_df = pd.read_csv(\"nlp-getting-started/train.csv\")\n",
    "test_df = pd.read_csv(\"nlp-getting-started/test.csv\")"
   ]
  },
  {
   "cell_type": "code",
   "execution_count": 4,
   "id": "9327399f-13f6-41e7-a77e-ea22fdf31d43",
   "metadata": {
    "tags": []
   },
   "outputs": [
    {
     "name": "stdout",
     "output_type": "stream",
     "text": [
      "<class 'pandas.core.frame.DataFrame'>\n",
      "RangeIndex: 7613 entries, 0 to 7612\n",
      "Data columns (total 5 columns):\n",
      " #   Column    Non-Null Count  Dtype \n",
      "---  ------    --------------  ----- \n",
      " 0   id        7613 non-null   int64 \n",
      " 1   keyword   7552 non-null   object\n",
      " 2   location  5080 non-null   object\n",
      " 3   text      7613 non-null   object\n",
      " 4   target    7613 non-null   int64 \n",
      "dtypes: int64(2), object(3)\n",
      "memory usage: 297.5+ KB\n"
     ]
    }
   ],
   "source": [
    "train_df.info()"
   ]
  },
  {
   "cell_type": "code",
   "execution_count": 5,
   "id": "a0e1c4af-5eb8-4830-9156-055458e2ee67",
   "metadata": {
    "tags": []
   },
   "outputs": [
    {
     "name": "stdout",
     "output_type": "stream",
     "text": [
      "<class 'pandas.core.frame.DataFrame'>\n",
      "RangeIndex: 3263 entries, 0 to 3262\n",
      "Data columns (total 4 columns):\n",
      " #   Column    Non-Null Count  Dtype \n",
      "---  ------    --------------  ----- \n",
      " 0   id        3263 non-null   int64 \n",
      " 1   keyword   3237 non-null   object\n",
      " 2   location  2158 non-null   object\n",
      " 3   text      3263 non-null   object\n",
      "dtypes: int64(1), object(3)\n",
      "memory usage: 102.1+ KB\n"
     ]
    }
   ],
   "source": [
    "test_df.info()"
   ]
  },
  {
   "cell_type": "markdown",
   "id": "e09c929a-01e1-4a38-adc8-906c3a62a3de",
   "metadata": {},
   "source": [
    "### Raw data\n",
    "And let's see how data looks like.  \n",
    "Somehow, null data are concentrated in the very beggining of the dataset. So I'd like to show example data from the middle.\n",
    "\n",
    "* **id**: identifier  \n",
    "* **keyword**: Keyword from the tweet  \n",
    "* **location**: Location where the tweet was sent  \n",
    "* **text**: raw text of the tweet  \n",
    "* **target**: Target variable. 1 if the tweet is related to natural disaster and 0 is not.  "
   ]
  },
  {
   "cell_type": "code",
   "execution_count": 6,
   "id": "fc7ec1b7-f3b3-43c2-a760-3a45e9d9c7c9",
   "metadata": {
    "tags": []
   },
   "outputs": [
    {
     "data": {
      "text/html": [
       "<div>\n",
       "<style scoped>\n",
       "    .dataframe tbody tr th:only-of-type {\n",
       "        vertical-align: middle;\n",
       "    }\n",
       "\n",
       "    .dataframe tbody tr th {\n",
       "        vertical-align: top;\n",
       "    }\n",
       "\n",
       "    .dataframe thead th {\n",
       "        text-align: right;\n",
       "    }\n",
       "</style>\n",
       "<table border=\"1\" class=\"dataframe\">\n",
       "  <thead>\n",
       "    <tr style=\"text-align: right;\">\n",
       "      <th></th>\n",
       "      <th>id</th>\n",
       "      <th>keyword</th>\n",
       "      <th>location</th>\n",
       "      <th>text</th>\n",
       "      <th>target</th>\n",
       "    </tr>\n",
       "  </thead>\n",
       "  <tbody>\n",
       "    <tr>\n",
       "      <th>26</th>\n",
       "      <td>38</td>\n",
       "      <td>NaN</td>\n",
       "      <td>NaN</td>\n",
       "      <td>Was in NYC last week!</td>\n",
       "      <td>0</td>\n",
       "    </tr>\n",
       "    <tr>\n",
       "      <th>27</th>\n",
       "      <td>39</td>\n",
       "      <td>NaN</td>\n",
       "      <td>NaN</td>\n",
       "      <td>Love my girlfriend</td>\n",
       "      <td>0</td>\n",
       "    </tr>\n",
       "    <tr>\n",
       "      <th>28</th>\n",
       "      <td>40</td>\n",
       "      <td>NaN</td>\n",
       "      <td>NaN</td>\n",
       "      <td>Cooool :)</td>\n",
       "      <td>0</td>\n",
       "    </tr>\n",
       "    <tr>\n",
       "      <th>29</th>\n",
       "      <td>41</td>\n",
       "      <td>NaN</td>\n",
       "      <td>NaN</td>\n",
       "      <td>Do you like pasta?</td>\n",
       "      <td>0</td>\n",
       "    </tr>\n",
       "    <tr>\n",
       "      <th>30</th>\n",
       "      <td>44</td>\n",
       "      <td>NaN</td>\n",
       "      <td>NaN</td>\n",
       "      <td>The end!</td>\n",
       "      <td>0</td>\n",
       "    </tr>\n",
       "    <tr>\n",
       "      <th>31</th>\n",
       "      <td>48</td>\n",
       "      <td>ablaze</td>\n",
       "      <td>Birmingham</td>\n",
       "      <td>@bbcmtd Wholesale Markets ablaze http://t.co/l...</td>\n",
       "      <td>1</td>\n",
       "    </tr>\n",
       "    <tr>\n",
       "      <th>32</th>\n",
       "      <td>49</td>\n",
       "      <td>ablaze</td>\n",
       "      <td>Est. September 2012 - Bristol</td>\n",
       "      <td>We always try to bring the heavy. #metal #RT h...</td>\n",
       "      <td>0</td>\n",
       "    </tr>\n",
       "    <tr>\n",
       "      <th>33</th>\n",
       "      <td>50</td>\n",
       "      <td>ablaze</td>\n",
       "      <td>AFRICA</td>\n",
       "      <td>#AFRICANBAZE: Breaking news:Nigeria flag set a...</td>\n",
       "      <td>1</td>\n",
       "    </tr>\n",
       "    <tr>\n",
       "      <th>34</th>\n",
       "      <td>52</td>\n",
       "      <td>ablaze</td>\n",
       "      <td>Philadelphia, PA</td>\n",
       "      <td>Crying out for more! Set me ablaze</td>\n",
       "      <td>0</td>\n",
       "    </tr>\n",
       "    <tr>\n",
       "      <th>35</th>\n",
       "      <td>53</td>\n",
       "      <td>ablaze</td>\n",
       "      <td>London, UK</td>\n",
       "      <td>On plus side LOOK AT THE SKY LAST NIGHT IT WAS...</td>\n",
       "      <td>0</td>\n",
       "    </tr>\n",
       "  </tbody>\n",
       "</table>\n",
       "</div>"
      ],
      "text/plain": [
       "    id keyword                       location  \\\n",
       "26  38     NaN                            NaN   \n",
       "27  39     NaN                            NaN   \n",
       "28  40     NaN                            NaN   \n",
       "29  41     NaN                            NaN   \n",
       "30  44     NaN                            NaN   \n",
       "31  48  ablaze                     Birmingham   \n",
       "32  49  ablaze  Est. September 2012 - Bristol   \n",
       "33  50  ablaze                         AFRICA   \n",
       "34  52  ablaze               Philadelphia, PA   \n",
       "35  53  ablaze                     London, UK   \n",
       "\n",
       "                                                 text  target  \n",
       "26                              Was in NYC last week!       0  \n",
       "27                                 Love my girlfriend       0  \n",
       "28                                          Cooool :)       0  \n",
       "29                                 Do you like pasta?       0  \n",
       "30                                           The end!       0  \n",
       "31  @bbcmtd Wholesale Markets ablaze http://t.co/l...       1  \n",
       "32  We always try to bring the heavy. #metal #RT h...       0  \n",
       "33  #AFRICANBAZE: Breaking news:Nigeria flag set a...       1  \n",
       "34                 Crying out for more! Set me ablaze       0  \n",
       "35  On plus side LOOK AT THE SKY LAST NIGHT IT WAS...       0  "
      ]
     },
     "execution_count": 6,
     "metadata": {},
     "output_type": "execute_result"
    }
   ],
   "source": [
    "train_df.iloc[26:36]"
   ]
  },
  {
   "cell_type": "code",
   "execution_count": 7,
   "id": "703f898f-c230-42f6-8b8a-d2f2cfd52707",
   "metadata": {
    "tags": []
   },
   "outputs": [
    {
     "name": "stdout",
     "output_type": "stream",
     "text": [
      "Percentage of the missing values for each column in the training set.\n",
      "id           0.000000\n",
      "keyword      0.801261\n",
      "location    33.272035\n",
      "text         0.000000\n",
      "target       0.000000\n",
      "dtype: float64\n",
      "\n",
      "Percentage of the missing values for each column in the test set.\n",
      "id           0.000000\n",
      "keyword      0.796813\n",
      "location    33.864542\n",
      "text         0.000000\n",
      "dtype: float64\n"
     ]
    }
   ],
   "source": [
    "print(\"Percentage of the missing values for each column in the training set.\")\n",
    "print(train_df.isna().sum()/train_df.shape[0] * 100)\n",
    "print(\"\")\n",
    "print(\"Percentage of the missing values for each column in the test set.\")\n",
    "print(test_df.isna().sum()/test_df.shape[0] * 100)"
   ]
  },
  {
   "cell_type": "markdown",
   "id": "544d0997-682d-4e60-8de4-ffa50a2ad773",
   "metadata": {},
   "source": [
    "### Fill missing values in the keyword and location\n",
    "To fill missing vlaues, let's assign some word against them."
   ]
  },
  {
   "cell_type": "code",
   "execution_count": 8,
   "id": "00356204-d54c-40b1-8deb-1ea4e03a5e5f",
   "metadata": {
    "tags": []
   },
   "outputs": [
    {
     "data": {
      "text/html": [
       "<div>\n",
       "<style scoped>\n",
       "    .dataframe tbody tr th:only-of-type {\n",
       "        vertical-align: middle;\n",
       "    }\n",
       "\n",
       "    .dataframe tbody tr th {\n",
       "        vertical-align: top;\n",
       "    }\n",
       "\n",
       "    .dataframe thead th {\n",
       "        text-align: right;\n",
       "    }\n",
       "</style>\n",
       "<table border=\"1\" class=\"dataframe\">\n",
       "  <thead>\n",
       "    <tr style=\"text-align: right;\">\n",
       "      <th></th>\n",
       "      <th>id</th>\n",
       "      <th>keyword</th>\n",
       "      <th>location</th>\n",
       "      <th>text</th>\n",
       "      <th>target</th>\n",
       "    </tr>\n",
       "  </thead>\n",
       "  <tbody>\n",
       "    <tr>\n",
       "      <th>0</th>\n",
       "      <td>1</td>\n",
       "      <td>invalid_keyword</td>\n",
       "      <td>invalid_location</td>\n",
       "      <td>Our Deeds are the Reason of this #earthquake M...</td>\n",
       "      <td>1</td>\n",
       "    </tr>\n",
       "    <tr>\n",
       "      <th>1</th>\n",
       "      <td>4</td>\n",
       "      <td>invalid_keyword</td>\n",
       "      <td>invalid_location</td>\n",
       "      <td>Forest fire near La Ronge Sask. Canada</td>\n",
       "      <td>1</td>\n",
       "    </tr>\n",
       "    <tr>\n",
       "      <th>2</th>\n",
       "      <td>5</td>\n",
       "      <td>invalid_keyword</td>\n",
       "      <td>invalid_location</td>\n",
       "      <td>All residents asked to 'shelter in place' are ...</td>\n",
       "      <td>1</td>\n",
       "    </tr>\n",
       "    <tr>\n",
       "      <th>3</th>\n",
       "      <td>6</td>\n",
       "      <td>invalid_keyword</td>\n",
       "      <td>invalid_location</td>\n",
       "      <td>13,000 people receive #wildfires evacuation or...</td>\n",
       "      <td>1</td>\n",
       "    </tr>\n",
       "    <tr>\n",
       "      <th>4</th>\n",
       "      <td>7</td>\n",
       "      <td>invalid_keyword</td>\n",
       "      <td>invalid_location</td>\n",
       "      <td>Just got sent this photo from Ruby #Alaska as ...</td>\n",
       "      <td>1</td>\n",
       "    </tr>\n",
       "  </tbody>\n",
       "</table>\n",
       "</div>"
      ],
      "text/plain": [
       "   id          keyword          location  \\\n",
       "0   1  invalid_keyword  invalid_location   \n",
       "1   4  invalid_keyword  invalid_location   \n",
       "2   5  invalid_keyword  invalid_location   \n",
       "3   6  invalid_keyword  invalid_location   \n",
       "4   7  invalid_keyword  invalid_location   \n",
       "\n",
       "                                                text  target  \n",
       "0  Our Deeds are the Reason of this #earthquake M...       1  \n",
       "1             Forest fire near La Ronge Sask. Canada       1  \n",
       "2  All residents asked to 'shelter in place' are ...       1  \n",
       "3  13,000 people receive #wildfires evacuation or...       1  \n",
       "4  Just got sent this photo from Ruby #Alaska as ...       1  "
      ]
     },
     "execution_count": 8,
     "metadata": {},
     "output_type": "execute_result"
    }
   ],
   "source": [
    "for df in [train_df, test_df]:\n",
    "    for col in ['keyword', 'location']:\n",
    "        df[col] = df[col].fillna(f'invalid_{col}')\n",
    "train_df.head()"
   ]
  },
  {
   "cell_type": "markdown",
   "id": "797ce35d-d7a2-44af-86a3-8c44e59042c1",
   "metadata": {},
   "source": [
    "### Number of unique value in the keyword and location\n",
    "Let's see the number of unique values in keyword and location. There might be some insight by using those information.\n",
    "\n",
    "Location seems quite different for each data. This seems a bit too dificult to use for training variable.   \n",
    "This time, I couldn't have enought time. But ideally, we can convert location into more meaningful information by unifying glanularity (e.g. convert city name into region name)."
   ]
  },
  {
   "cell_type": "code",
   "execution_count": 9,
   "id": "0f4486d9-9d89-495d-b4b5-376c079f211a",
   "metadata": {
    "tags": []
   },
   "outputs": [
    {
     "name": "stdout",
     "output_type": "stream",
     "text": [
      "Number of unique keyword in: \n",
      "Training data - 222 \n",
      "Testing data - 222\n",
      "\n",
      "Number of unique location in : \n",
      "Training data - 3342 \n",
      "Testing data - 1603\n"
     ]
    }
   ],
   "source": [
    "print(f'Number of unique keyword in: \\nTraining data - {train_df[\"keyword\"].nunique()} \\nTesting data - {test_df[\"keyword\"].nunique()}')\n",
    "print(f'\\nNumber of unique location in : \\nTraining data - {train_df[\"location\"].nunique()} \\nTesting data - {test_df[\"location\"].nunique()}')"
   ]
  },
  {
   "cell_type": "markdown",
   "id": "5b351e95-80c4-4776-b978-8eaf2851f297",
   "metadata": {
    "tags": []
   },
   "source": [
    "### Number of tweets per kerword"
   ]
  },
  {
   "cell_type": "markdown",
   "id": "5ef8c583-fe25-4e54-a543-ee4d63b0971b",
   "metadata": {},
   "source": [
    "Number of tweets per keyword, and count value histogram are visualized below.  \n",
    "As you can see, keyword count are well balanced. This is good indication as we can utilize these information effectively without processing!"
   ]
  },
  {
   "cell_type": "code",
   "execution_count": 10,
   "id": "7448ee99-8582-4a76-ad17-895f9cdefcdf",
   "metadata": {
    "tags": []
   },
   "outputs": [
    {
     "data": {
      "image/png": "[encoded data removed]",
      "text/plain": [
       "<Figure size 2000x600 with 2 Axes>"
      ]
     },
     "metadata": {},
     "output_type": "display_data"
    }
   ],
   "source": [
    "plt.figure(figsize=(20,6))\n",
    "plt.subplot(121, title=\"count per keyword\")\n",
    "plt.bar(train_df.groupby(\"keyword\").count().index, train_df.groupby(\"keyword\").count()[\"id\"])\n",
    "plt.subplot(122, title=\"histogram\")\n",
    "plt.hist(train_df.groupby(\"keyword\").count()[\"id\"])\n",
    "plt.show()"
   ]
  },
  {
   "cell_type": "markdown",
   "id": "629d9f46-6485-40f5-879f-c37ca3558556",
   "metadata": {},
   "source": [
    "### Percentage of the positive value in the target variable\n",
    "Almost half are related to natual disaster. We can say that the data is not biased."
   ]
  },
  {
   "cell_type": "code",
   "execution_count": 11,
   "id": "3096f542-b3df-402d-9fa8-fa4df48bb46b",
   "metadata": {
    "tags": []
   },
   "outputs": [
    {
     "name": "stdout",
     "output_type": "stream",
     "text": [
      "42.96597924602653\n"
     ]
    }
   ],
   "source": [
    "# percentage of the data with \"positive\" target variables \n",
    "print(train_df.target.sum() / train_df.shape[0] * 100)"
   ]
  },
  {
   "cell_type": "code",
   "execution_count": 12,
   "id": "bbdcf6d3-ae91-4065-899c-7d08435cd9aa",
   "metadata": {
    "tags": []
   },
   "outputs": [
    {
     "data": {
      "image/png": "[encoded data removed]",
      "text/plain": [
       "<Figure size 2000x600 with 2 Axes>"
      ]
     },
     "metadata": {},
     "output_type": "display_data"
    }
   ],
   "source": [
    "# calc and store mean target per each keyword\n",
    "tmp = train_df.groupby('keyword')['target'].mean().sort_values()\n",
    "\n",
    "plt.figure(figsize=(20,6))\n",
    "plt.subplot(121, title=\"top 10 keywords with higher target value\")\n",
    "plt.bar(tmp[-10:].index, tmp[-10:].values)\n",
    "plt.xticks(rotation=90)\n",
    "plt.subplot(122, title=\"top 10 keywords with lower target value\")\n",
    "plt.bar(tmp[:10].index, tmp[:10].values)\n",
    "plt.xticks(rotation=90)\n",
    "plt.show()"
   ]
  },
  {
   "cell_type": "markdown",
   "id": "62b656c8-c183-4eef-860d-0749f7b60e7c",
   "metadata": {},
   "source": [
    "### Add some feature values can be extract from tweets\n",
    "Tweet data itself will be used as the explanatory variables.  \n",
    "But we can extract several \"characteristic\" values for the analysis."
   ]
  },
  {
   "cell_type": "code",
   "execution_count": 13,
   "id": "95e67f0e-8c45-4cad-baee-df6843da5e63",
   "metadata": {
    "tags": []
   },
   "outputs": [
    {
     "data": {
      "text/html": [
       "<div>\n",
       "<style scoped>\n",
       "    .dataframe tbody tr th:only-of-type {\n",
       "        vertical-align: middle;\n",
       "    }\n",
       "\n",
       "    .dataframe tbody tr th {\n",
       "        vertical-align: top;\n",
       "    }\n",
       "\n",
       "    .dataframe thead th {\n",
       "        text-align: right;\n",
       "    }\n",
       "</style>\n",
       "<table border=\"1\" class=\"dataframe\">\n",
       "  <thead>\n",
       "    <tr style=\"text-align: right;\">\n",
       "      <th></th>\n",
       "      <th>id</th>\n",
       "      <th>keyword</th>\n",
       "      <th>location</th>\n",
       "      <th>text</th>\n",
       "      <th>target</th>\n",
       "      <th>word_count</th>\n",
       "      <th>unique_word_count</th>\n",
       "      <th>stop_word_count</th>\n",
       "      <th>url_count</th>\n",
       "      <th>hashtag_count</th>\n",
       "      <th>mention_count</th>\n",
       "    </tr>\n",
       "  </thead>\n",
       "  <tbody>\n",
       "    <tr>\n",
       "      <th>0</th>\n",
       "      <td>1</td>\n",
       "      <td>invalid_keyword</td>\n",
       "      <td>invalid_location</td>\n",
       "      <td>Our Deeds are the Reason of this #earthquake M...</td>\n",
       "      <td>1</td>\n",
       "      <td>13</td>\n",
       "      <td>13</td>\n",
       "      <td>6</td>\n",
       "      <td>0</td>\n",
       "      <td>1</td>\n",
       "      <td>0</td>\n",
       "    </tr>\n",
       "    <tr>\n",
       "      <th>1</th>\n",
       "      <td>4</td>\n",
       "      <td>invalid_keyword</td>\n",
       "      <td>invalid_location</td>\n",
       "      <td>Forest fire near La Ronge Sask. Canada</td>\n",
       "      <td>1</td>\n",
       "      <td>7</td>\n",
       "      <td>7</td>\n",
       "      <td>0</td>\n",
       "      <td>0</td>\n",
       "      <td>0</td>\n",
       "      <td>0</td>\n",
       "    </tr>\n",
       "    <tr>\n",
       "      <th>2</th>\n",
       "      <td>5</td>\n",
       "      <td>invalid_keyword</td>\n",
       "      <td>invalid_location</td>\n",
       "      <td>All residents asked to 'shelter in place' are ...</td>\n",
       "      <td>1</td>\n",
       "      <td>22</td>\n",
       "      <td>20</td>\n",
       "      <td>11</td>\n",
       "      <td>0</td>\n",
       "      <td>0</td>\n",
       "      <td>0</td>\n",
       "    </tr>\n",
       "    <tr>\n",
       "      <th>3</th>\n",
       "      <td>6</td>\n",
       "      <td>invalid_keyword</td>\n",
       "      <td>invalid_location</td>\n",
       "      <td>13,000 people receive #wildfires evacuation or...</td>\n",
       "      <td>1</td>\n",
       "      <td>8</td>\n",
       "      <td>8</td>\n",
       "      <td>1</td>\n",
       "      <td>0</td>\n",
       "      <td>1</td>\n",
       "      <td>0</td>\n",
       "    </tr>\n",
       "    <tr>\n",
       "      <th>4</th>\n",
       "      <td>7</td>\n",
       "      <td>invalid_keyword</td>\n",
       "      <td>invalid_location</td>\n",
       "      <td>Just got sent this photo from Ruby #Alaska as ...</td>\n",
       "      <td>1</td>\n",
       "      <td>16</td>\n",
       "      <td>15</td>\n",
       "      <td>7</td>\n",
       "      <td>0</td>\n",
       "      <td>2</td>\n",
       "      <td>0</td>\n",
       "    </tr>\n",
       "  </tbody>\n",
       "</table>\n",
       "</div>"
      ],
      "text/plain": [
       "   id          keyword          location  \\\n",
       "0   1  invalid_keyword  invalid_location   \n",
       "1   4  invalid_keyword  invalid_location   \n",
       "2   5  invalid_keyword  invalid_location   \n",
       "3   6  invalid_keyword  invalid_location   \n",
       "4   7  invalid_keyword  invalid_location   \n",
       "\n",
       "                                                text  target  word_count  \\\n",
       "0  Our Deeds are the Reason of this #earthquake M...       1          13   \n",
       "1             Forest fire near La Ronge Sask. Canada       1           7   \n",
       "2  All residents asked to 'shelter in place' are ...       1          22   \n",
       "3  13,000 people receive #wildfires evacuation or...       1           8   \n",
       "4  Just got sent this photo from Ruby #Alaska as ...       1          16   \n",
       "\n",
       "   unique_word_count  stop_word_count  url_count  hashtag_count  mention_count  \n",
       "0                 13                6          0              1              0  \n",
       "1                  7                0          0              0              0  \n",
       "2                 20               11          0              0              0  \n",
       "3                  8                1          0              1              0  \n",
       "4                 15                7          0              2              0  "
      ]
     },
     "execution_count": 13,
     "metadata": {},
     "output_type": "execute_result"
    }
   ],
   "source": [
    "# word count in the tweet\n",
    "train_df['word_count'] = train_df['text'].apply(lambda x: len(str(x).split()))\n",
    "test_df['word_count'] = test_df['text'].apply(lambda x: len(str(x).split()))\n",
    "\n",
    "# number of unique word in the tweet\n",
    "train_df['unique_word_count'] = train_df['text'].apply(lambda x: len(set(str(x).split())))\n",
    "test_df['unique_word_count'] = test_df['text'].apply(lambda x: len(set(str(x).split())))\n",
    "\n",
    "# number of stop_word in the tweet\n",
    "train_df['stop_word_count'] = train_df['text'].apply(lambda x: len([w for w in str(x).lower().split() if w in STOPWORDS]))\n",
    "test_df['stop_word_count'] = test_df['text'].apply(lambda x: len([w for w in str(x).lower().split() if w in STOPWORDS]))\n",
    "\n",
    "# number of \"http\" or \"https\" in the tweet which usually used as url_count\n",
    "train_df['url_count'] = train_df['text'].apply(lambda x: len([w for w in str(x).lower().split() if 'http' in w or 'https' in w]))\n",
    "test_df['url_count'] = test_df['text'].apply(lambda x: len([w for w in str(x).lower().split() if 'http' in w or 'https' in w]))\n",
    "\n",
    "# number of # in the tweet which usually used as hashtags\n",
    "train_df['hashtag_count'] = train_df['text'].apply(lambda x: len([c for c in str(x) if c == '#']))\n",
    "test_df['hashtag_count'] = test_df['text'].apply(lambda x: len([c for c in str(x) if c == '#']))\n",
    "\n",
    "# number of @ in the tweet mark which usually used as mentions\n",
    "train_df['mention_count'] = train_df['text'].apply(lambda x: len([c for c in str(x) if c == '@']))\n",
    "test_df['mention_count'] = test_df['text'].apply(lambda x: len([c for c in str(x) if c == '@']))\n",
    "\n",
    "train_df.head()"
   ]
  },
  {
   "cell_type": "markdown",
   "id": "d7ea4cd9-278c-409c-bd23-3d88d7e65454",
   "metadata": {},
   "source": [
    "### Visualize those additioal features\n",
    "It seems that some features can be a clue for differntiation, for example:\n",
    "\n",
    "* too short (few word count) tweet tend to be not-disaster, and no reference to the URL tends to be not-disaster.\n",
    "\n",
    "But there are very few apparent differneces can be observed."
   ]
  },
  {
   "cell_type": "code",
   "execution_count": 14,
   "id": "20d7a635-4df0-4da6-8383-7734204845d4",
   "metadata": {},
   "outputs": [
    {
     "data": {
      "image/png": "[encoded data removed]",
      "text/plain": [
       "<Figure size 2000x1000 with 6 Axes>"
      ]
     },
     "metadata": {},
     "output_type": "display_data"
    }
   ],
   "source": [
    "METAFEATURES = ['word_count', 'unique_word_count', 'stop_word_count', 'url_count', 'hashtag_count', 'mention_count']\n",
    "DISASTER_TWEETS = train_df['target'] == 1\n",
    "\n",
    "fig, axes = plt.subplots(2, 3, figsize=(20, 10), dpi=100)\n",
    "axes = axes.ravel()\n",
    "\n",
    "for i, feature in enumerate(METAFEATURES):\n",
    "    sns.histplot(train_df.loc[~DISASTER_TWEETS][feature], label='Not Disaster', color='orange', ax=axes[i])\n",
    "    sns.histplot(train_df.loc[DISASTER_TWEETS][feature], label='Disaster', color='yellowgreen', ax=axes[i])\n",
    "\n",
    "    axes[i].set_xlabel('')\n",
    "    axes[i].tick_params(axis='x', labelsize=12)\n",
    "    axes[i].tick_params(axis='y', labelsize=12)\n",
    "    axes[i].legend()\n",
    "\n",
    "    axes[i].set_title(f'{feature} distribution in the training Set', fontsize=11)\n",
    "\n",
    "plt.show()"
   ]
  },
  {
   "cell_type": "markdown",
   "id": "b7cdf331-70cb-4427-9eb1-5c2854cead3e",
   "metadata": {},
   "source": [
    "### Text preprocessing\n",
    "in order to minimize unintended variation in the tweet, several preprocessing were applied."
   ]
  },
  {
   "cell_type": "code",
   "execution_count": 15,
   "id": "3122dd4b-4f08-4d2d-9046-669d9c6edf25",
   "metadata": {
    "tags": []
   },
   "outputs": [],
   "source": [
    "def to_lowercase(tweet):\n",
    "    \"\"\" make tweet lower-case\n",
    "    \"\"\"\n",
    "    loweredcase_tweet = tweet.lower()\n",
    "    return loweredcase_tweet\n",
    "\n",
    "def text_cleaning(tweet):\n",
    "    \"\"\" remove tweets and special characters\n",
    "    \"\"\"\n",
    "    tweet = re.sub(r\"https?:\\/\\/t.co\\/[A-Za-z0-9]+\", \"http\", tweet) # remove content of the url (http is kept as the number of url can be a clue)\n",
    "    tweet = re.sub(r\"[^a-zA-Z0-9\\s]\", \"\", tweet) # remove special char\n",
    "    return tweet"
   ]
  },
  {
   "cell_type": "code",
   "execution_count": 16,
   "id": "87c4a918-26d0-4f4e-b3fd-b432639c570a",
   "metadata": {
    "tags": []
   },
   "outputs": [],
   "source": [
    "train_df['lowered_text'] = train_df['text'].apply(lambda t : to_lowercase(t))\n",
    "test_df['lowered_text'] = test_df['text'].apply(lambda t : to_lowercase(t))\n",
    "\n",
    "train_df['clean_text'] = train_df['lowered_text'].apply(lambda t : text_cleaning(t))\n",
    "test_df['clean_text'] = test_df['lowered_text'].apply(lambda t : text_cleaning(t))"
   ]
  },
  {
   "cell_type": "code",
   "execution_count": 17,
   "id": "7bcf9781-58cf-4ad1-b986-e5477b21f914",
   "metadata": {},
   "outputs": [
    {
     "data": {
      "text/html": [
       "<div>\n",
       "<style scoped>\n",
       "    .dataframe tbody tr th:only-of-type {\n",
       "        vertical-align: middle;\n",
       "    }\n",
       "\n",
       "    .dataframe tbody tr th {\n",
       "        vertical-align: top;\n",
       "    }\n",
       "\n",
       "    .dataframe thead th {\n",
       "        text-align: right;\n",
       "    }\n",
       "</style>\n",
       "<table border=\"1\" class=\"dataframe\">\n",
       "  <thead>\n",
       "    <tr style=\"text-align: right;\">\n",
       "      <th></th>\n",
       "      <th>id</th>\n",
       "      <th>keyword</th>\n",
       "      <th>location</th>\n",
       "      <th>text</th>\n",
       "      <th>target</th>\n",
       "      <th>word_count</th>\n",
       "      <th>unique_word_count</th>\n",
       "      <th>stop_word_count</th>\n",
       "      <th>url_count</th>\n",
       "      <th>hashtag_count</th>\n",
       "      <th>mention_count</th>\n",
       "      <th>lowered_text</th>\n",
       "      <th>clean_text</th>\n",
       "    </tr>\n",
       "  </thead>\n",
       "  <tbody>\n",
       "    <tr>\n",
       "      <th>0</th>\n",
       "      <td>1</td>\n",
       "      <td>invalid_keyword</td>\n",
       "      <td>invalid_location</td>\n",
       "      <td>Our Deeds are the Reason of this #earthquake M...</td>\n",
       "      <td>1</td>\n",
       "      <td>13</td>\n",
       "      <td>13</td>\n",
       "      <td>6</td>\n",
       "      <td>0</td>\n",
       "      <td>1</td>\n",
       "      <td>0</td>\n",
       "      <td>our deeds are the reason of this #earthquake m...</td>\n",
       "      <td>our deeds are the reason of this earthquake ma...</td>\n",
       "    </tr>\n",
       "    <tr>\n",
       "      <th>1</th>\n",
       "      <td>4</td>\n",
       "      <td>invalid_keyword</td>\n",
       "      <td>invalid_location</td>\n",
       "      <td>Forest fire near La Ronge Sask. Canada</td>\n",
       "      <td>1</td>\n",
       "      <td>7</td>\n",
       "      <td>7</td>\n",
       "      <td>0</td>\n",
       "      <td>0</td>\n",
       "      <td>0</td>\n",
       "      <td>0</td>\n",
       "      <td>forest fire near la ronge sask. canada</td>\n",
       "      <td>forest fire near la ronge sask canada</td>\n",
       "    </tr>\n",
       "    <tr>\n",
       "      <th>2</th>\n",
       "      <td>5</td>\n",
       "      <td>invalid_keyword</td>\n",
       "      <td>invalid_location</td>\n",
       "      <td>All residents asked to 'shelter in place' are ...</td>\n",
       "      <td>1</td>\n",
       "      <td>22</td>\n",
       "      <td>20</td>\n",
       "      <td>11</td>\n",
       "      <td>0</td>\n",
       "      <td>0</td>\n",
       "      <td>0</td>\n",
       "      <td>all residents asked to 'shelter in place' are ...</td>\n",
       "      <td>all residents asked to shelter in place are be...</td>\n",
       "    </tr>\n",
       "    <tr>\n",
       "      <th>3</th>\n",
       "      <td>6</td>\n",
       "      <td>invalid_keyword</td>\n",
       "      <td>invalid_location</td>\n",
       "      <td>13,000 people receive #wildfires evacuation or...</td>\n",
       "      <td>1</td>\n",
       "      <td>8</td>\n",
       "      <td>8</td>\n",
       "      <td>1</td>\n",
       "      <td>0</td>\n",
       "      <td>1</td>\n",
       "      <td>0</td>\n",
       "      <td>13,000 people receive #wildfires evacuation or...</td>\n",
       "      <td>13000 people receive wildfires evacuation orde...</td>\n",
       "    </tr>\n",
       "    <tr>\n",
       "      <th>4</th>\n",
       "      <td>7</td>\n",
       "      <td>invalid_keyword</td>\n",
       "      <td>invalid_location</td>\n",
       "      <td>Just got sent this photo from Ruby #Alaska as ...</td>\n",
       "      <td>1</td>\n",
       "      <td>16</td>\n",
       "      <td>15</td>\n",
       "      <td>7</td>\n",
       "      <td>0</td>\n",
       "      <td>2</td>\n",
       "      <td>0</td>\n",
       "      <td>just got sent this photo from ruby #alaska as ...</td>\n",
       "      <td>just got sent this photo from ruby alaska as s...</td>\n",
       "    </tr>\n",
       "  </tbody>\n",
       "</table>\n",
       "</div>"
      ],
      "text/plain": [
       "   id          keyword          location  \\\n",
       "0   1  invalid_keyword  invalid_location   \n",
       "1   4  invalid_keyword  invalid_location   \n",
       "2   5  invalid_keyword  invalid_location   \n",
       "3   6  invalid_keyword  invalid_location   \n",
       "4   7  invalid_keyword  invalid_location   \n",
       "\n",
       "                                                text  target  word_count  \\\n",
       "0  Our Deeds are the Reason of this #earthquake M...       1          13   \n",
       "1             Forest fire near La Ronge Sask. Canada       1           7   \n",
       "2  All residents asked to 'shelter in place' are ...       1          22   \n",
       "3  13,000 people receive #wildfires evacuation or...       1           8   \n",
       "4  Just got sent this photo from Ruby #Alaska as ...       1          16   \n",
       "\n",
       "   unique_word_count  stop_word_count  url_count  hashtag_count  \\\n",
       "0                 13                6          0              1   \n",
       "1                  7                0          0              0   \n",
       "2                 20               11          0              0   \n",
       "3                  8                1          0              1   \n",
       "4                 15                7          0              2   \n",
       "\n",
       "   mention_count                                       lowered_text  \\\n",
       "0              0  our deeds are the reason of this #earthquake m...   \n",
       "1              0             forest fire near la ronge sask. canada   \n",
       "2              0  all residents asked to 'shelter in place' are ...   \n",
       "3              0  13,000 people receive #wildfires evacuation or...   \n",
       "4              0  just got sent this photo from ruby #alaska as ...   \n",
       "\n",
       "                                          clean_text  \n",
       "0  our deeds are the reason of this earthquake ma...  \n",
       "1              forest fire near la ronge sask canada  \n",
       "2  all residents asked to shelter in place are be...  \n",
       "3  13000 people receive wildfires evacuation orde...  \n",
       "4  just got sent this photo from ruby alaska as s...  "
      ]
     },
     "execution_count": 17,
     "metadata": {},
     "output_type": "execute_result"
    }
   ],
   "source": [
    "train_df.head()"
   ]
  },
  {
   "cell_type": "markdown",
   "id": "67c602e1-6483-4066-8a5b-e12d613285a6",
   "metadata": {},
   "source": [
    "### Define variables to be used for trainig/validation\n",
    "I'll use only cleaned text as the explanatory variables."
   ]
  },
  {
   "cell_type": "code",
   "execution_count": 18,
   "id": "65201c66-8595-4419-a58d-e2c020e0f28f",
   "metadata": {
    "tags": []
   },
   "outputs": [],
   "source": [
    "X = train_df['clean_text']\n",
    "y = train_df['target']\n",
    "y = np.array(y)\n",
    "\n",
    "X_train, X_valid, y_train, y_valid = train_test_split(X, y, test_size=0.3, random_state=42)"
   ]
  },
  {
   "cell_type": "markdown",
   "id": "89e9c92b-aa63-4f89-aa64-c0b7637adb6c",
   "metadata": {},
   "source": [
    "***\n",
    "## Apply Model"
   ]
  },
  {
   "cell_type": "markdown",
   "id": "611c2b18-43d5-4e63-85c0-b0a26461af53",
   "metadata": {},
   "source": [
    "### Multinomial Naive Bayes\n",
    "[Mutinomial NB](https://scikit-learn.org/stable/modules/generated/sklearn.naive_bayes.MultinomialNB.html#sklearn.naive_bayes.MultinomialNB) is suitable for classification with dicrete features (e.g., word counts for text classification). The multinomial distribution normally requires integer feature counts. However, in practice, fractional counts such as tf-idf may also work..\n",
    "\n",
    "It seems that our model is suffering from a bit of overfitting.  But it seems not bad as it was not easy to guess the target variable from given tweet."
   ]
  },
  {
   "cell_type": "code",
   "execution_count": 19,
   "id": "c0f68b64-bf7f-4752-b466-ec703f09512e",
   "metadata": {
    "tags": []
   },
   "outputs": [],
   "source": [
    "tfidf_vectorizer = TfidfVectorizer()\n",
    "\n",
    "X_train_tfidf = tfidf_vectorizer.fit_transform(X_train)\n",
    "X_valid_tfidf = tfidf_vectorizer.transform(X_valid)"
   ]
  },
  {
   "cell_type": "code",
   "execution_count": 20,
   "id": "5e8ac236-06bf-4420-b96e-53b501bb756e",
   "metadata": {
    "tags": []
   },
   "outputs": [],
   "source": [
    "nb_classifier = MultinomialNB()\n",
    "nb_classifier.fit(X_train_tfidf, y_train)\n",
    "y_train_nb = nb_classifier.predict(X_train_tfidf)\n",
    "y_pred_nb = nb_classifier.predict(X_valid_tfidf)"
   ]
  },
  {
   "cell_type": "code",
   "execution_count": 21,
   "id": "c92f4164-c3d3-48a0-ab08-bf3435a4eeed",
   "metadata": {
    "tags": []
   },
   "outputs": [
    {
     "name": "stdout",
     "output_type": "stream",
     "text": [
      "Naive Bayes Classifier\n",
      "Accuracy: 0.8904\n",
      "F1 score: 0.8604\n",
      "Naive Bayes Classifier\n",
      "Accuracy: 0.8069\n",
      "F1 score: 0.7367\n"
     ]
    }
   ],
   "source": [
    "print('Naive Bayes Classifier')\n",
    "print(f'Accuracy: {accuracy_score(y_train, y_train_nb):.4f}')\n",
    "print(f'F1 score: {f1_score(y_train, y_train_nb):.4f}')\n",
    "print('Naive Bayes Classifier')\n",
    "print(f'Accuracy: {accuracy_score(y_valid, y_pred_nb):.4f}')\n",
    "print(f'F1 score: {f1_score(y_valid, y_pred_nb):.4f}')"
   ]
  },
  {
   "cell_type": "markdown",
   "id": "984bf112-04d1-4e3b-bd8f-557dfc3d409a",
   "metadata": {},
   "source": [
    "### Bidirectional LSTM\n",
    "[Bidirectional Layer](https://keras.io/api/layers/recurrent_layers/bidirectional/) is used to train using sentences using both forward direction and backward direction. This task is to predict if the tweet is derived from natural disaster or not. So its reasonable to utilize backward directional information.\n",
    "\n",
    "#### Preprocessing"
   ]
  },
  {
   "cell_type": "code",
   "execution_count": 22,
   "id": "96bc67eb-721a-4a7b-bd2a-068b8849caa1",
   "metadata": {
    "tags": []
   },
   "outputs": [
    {
     "name": "stdout",
     "output_type": "stream",
     "text": [
      "Maximum word length: 31\n",
      "Minimum word length: 1\n"
     ]
    }
   ],
   "source": [
    "VOCAB_SIZE = 15000\n",
    "SENTENCE_LENGTH = 15\n",
    "VECTOR_FEAT = 32\n",
    "\n",
    "onehot_vec_train = [one_hot(words, VOCAB_SIZE) for words in X_train]\n",
    "onehot_vec_valid = [one_hot(words, VOCAB_SIZE) for words in X_valid]\n",
    "\n",
    "word_len = []\n",
    "for i in onehot_vec_train:\n",
    "    word_len.append(len(i))\n",
    "\n",
    "print(f'Maximum word length: {max(word_len)}')\n",
    "print(f'Minimum word length: {min(word_len)}')\n",
    "\n",
    "embedded_docs_train = pad_sequences(onehot_vec_train, padding='post', maxlen=SENTENCE_LENGTH)\n",
    "embedded_docs_valid = pad_sequences(onehot_vec_valid, padding='post', maxlen=SENTENCE_LENGTH)"
   ]
  },
  {
   "cell_type": "markdown",
   "id": "01f74c40-ed5e-43c7-9a33-5032f09b04f3",
   "metadata": {},
   "source": [
    "#### Model\n",
    "Input data is embeddeed and then provided to Bidirectional LSTM. And then the output goes through additional Dense layers to get the prediction result."
   ]
  },
  {
   "cell_type": "code",
   "execution_count": 23,
   "id": "e85c869e-5b66-4bf4-a9e3-3ae449d9bb65",
   "metadata": {
    "tags": []
   },
   "outputs": [],
   "source": [
    "def model():\n",
    "    lstm_model = Sequential()\n",
    "    lstm_model.add(Input(shape=(SENTENCE_LENGTH,)))\n",
    "    lstm_model.add(Embedding(VOCAB_SIZE, VECTOR_FEAT))\n",
    "    lstm_model.add(Bidirectional(LSTM(100, return_sequences=True)))\n",
    "    lstm_model.add(GlobalMaxPooling1D())\n",
    "    lstm_model.add(BatchNormalization())\n",
    "    lstm_model.add(Dropout(0.5))\n",
    "    lstm_model.add(Dense(10, activation='relu'))\n",
    "    lstm_model.add(Dropout(0.5))\n",
    "    lstm_model.add(Dense(1, activation='sigmoid'))\n",
    "\n",
    "    return lstm_model"
   ]
  },
  {
   "cell_type": "code",
   "execution_count": 24,
   "id": "f9866fe3-26e2-4f69-bb22-c307d8a2e845",
   "metadata": {
    "tags": []
   },
   "outputs": [
    {
     "name": "stdout",
     "output_type": "stream",
     "text": [
      "Model: \"sequential\"\n",
      "_________________________________________________________________\n",
      " Layer (type)                Output Shape              Param #   \n",
      "=================================================================\n",
      " embedding (Embedding)       (None, 15, 32)            480000    \n",
      "                                                                 \n",
      " bidirectional (Bidirectiona  (None, 15, 200)          106400    \n",
      " l)                                                              \n",
      "                                                                 \n",
      " global_max_pooling1d (Globa  (None, 200)              0         \n",
      " lMaxPooling1D)                                                  \n",
      "                                                                 \n",
      " batch_normalization (BatchN  (None, 200)              800       \n",
      " ormalization)                                                   \n",
      "                                                                 \n",
      " dropout (Dropout)           (None, 200)               0         \n",
      "                                                                 \n",
      " dense (Dense)               (None, 10)                2010      \n",
      "                                                                 \n",
      " dropout_1 (Dropout)         (None, 10)                0         \n",
      "                                                                 \n",
      " dense_1 (Dense)             (None, 1)                 11        \n",
      "                                                                 \n",
      "=================================================================\n",
      "Total params: 589,221\n",
      "Trainable params: 588,821\n",
      "Non-trainable params: 400\n",
      "_________________________________________________________________\n"
     ]
    }
   ],
   "source": [
    "lstm_model = model()\n",
    "lstm_model.compile(optimizer='adam', loss='binary_crossentropy', metrics=['accuracy'])\n",
    "lstm_model.summary()"
   ]
  },
  {
   "cell_type": "code",
   "execution_count": 25,
   "id": "1d5bb677-e0a1-42b6-80d0-7249e7b1fd25",
   "metadata": {
    "tags": []
   },
   "outputs": [
    {
     "name": "stdout",
     "output_type": "stream",
     "text": [
      "Epoch 1/3\n",
      "167/167 [==============================] - 5s 10ms/step - loss: 0.6080 - accuracy: 0.6725\n",
      "Epoch 2/3\n",
      "167/167 [==============================] - 2s 10ms/step - loss: 0.4296 - accuracy: 0.8172\n",
      "Epoch 3/3\n",
      "167/167 [==============================] - 2s 10ms/step - loss: 0.3089 - accuracy: 0.8872\n"
     ]
    }
   ],
   "source": [
    "history = lstm_model.fit(embedded_docs_train, y_train, epochs=3, batch_size=32)"
   ]
  },
  {
   "cell_type": "markdown",
   "id": "8a1e319e-06bb-470f-aadc-7032019530b0",
   "metadata": {},
   "source": [
    "### See the Score\n",
    "Unfortunately, the result wasn't so good.  \n",
    "It seems that the model is easy to overfit, as Naiive Bayes already overfits with the training data, we can imagine deep learning based approach overfits more easily. I guess we need more data, or better understanding of this domain so that we can apply appropriate network architecture for this specific task."
   ]
  },
  {
   "cell_type": "code",
   "execution_count": 26,
   "id": "5fe566ff-8dbe-4643-ae76-dc6b98a295d8",
   "metadata": {
    "tags": []
   },
   "outputs": [
    {
     "name": "stdout",
     "output_type": "stream",
     "text": [
      "167/167 [==============================] - 1s 4ms/step\n",
      "72/72 [==============================] - 0s 3ms/step\n"
     ]
    }
   ],
   "source": [
    "y_train_lstm = (lstm_model.predict(embedded_docs_train) > 0.5).astype(\"int32\")\n",
    "y_pred_lstm = (lstm_model.predict(embedded_docs_valid) > 0.5).astype(\"int32\")"
   ]
  },
  {
   "cell_type": "code",
   "execution_count": 27,
   "id": "3b386678-f9e8-4557-a160-214c4e0d4d13",
   "metadata": {
    "tags": []
   },
   "outputs": [
    {
     "name": "stdout",
     "output_type": "stream",
     "text": [
      "LSTM train\n",
      "Accuracy: 0.9204\n",
      "F1 score: 0.8994\n",
      "LSTM valid\n",
      "Accuracy: 0.7583\n",
      "F1 score: 0.6511\n"
     ]
    }
   ],
   "source": [
    "print('LSTM train')\n",
    "print(f'Accuracy: {accuracy_score(y_train, y_train_lstm):.4f}')\n",
    "print(f'F1 score: {f1_score(y_train, y_train_lstm):.4f}')\n",
    "print('LSTM valid')\n",
    "print(f'Accuracy: {accuracy_score(y_valid, y_pred_lstm):.4f}')\n",
    "print(f'F1 score: {f1_score(y_valid, y_pred_lstm):.4f}')"
   ]
  },
  {
   "cell_type": "markdown",
   "id": "55009cb1-86f8-4a65-ae11-bb5520b421d9",
   "metadata": {},
   "source": [
    "***\n",
    "## Conclusion\n",
    "It seems that the DNN based approach applied here overfits to the trainig data and couldn't provide good result compared with simpler approach.  \n",
    "Maybe further study required to fully understand what kind of architecture fits with this kind of task.\n",
    "\n",
    "### Let's use Naive Bayes Classifier and make output\n",
    "As the result seems better with Naive Bayes Classifier. I'll use this as the output for my assignment."
   ]
  },
  {
   "cell_type": "code",
   "execution_count": 28,
   "id": "73da9aa5-a06d-417e-9244-ed88ac5bdb35",
   "metadata": {},
   "outputs": [
    {
     "data": {
      "text/html": [
       "<div>\n",
       "<style scoped>\n",
       "    .dataframe tbody tr th:only-of-type {\n",
       "        vertical-align: middle;\n",
       "    }\n",
       "\n",
       "    .dataframe tbody tr th {\n",
       "        vertical-align: top;\n",
       "    }\n",
       "\n",
       "    .dataframe thead th {\n",
       "        text-align: right;\n",
       "    }\n",
       "</style>\n",
       "<table border=\"1\" class=\"dataframe\">\n",
       "  <thead>\n",
       "    <tr style=\"text-align: right;\">\n",
       "      <th></th>\n",
       "      <th>id</th>\n",
       "      <th>keyword</th>\n",
       "      <th>location</th>\n",
       "      <th>text</th>\n",
       "      <th>word_count</th>\n",
       "      <th>unique_word_count</th>\n",
       "      <th>stop_word_count</th>\n",
       "      <th>url_count</th>\n",
       "      <th>hashtag_count</th>\n",
       "      <th>mention_count</th>\n",
       "      <th>lowered_text</th>\n",
       "      <th>clean_text</th>\n",
       "    </tr>\n",
       "  </thead>\n",
       "  <tbody>\n",
       "    <tr>\n",
       "      <th>0</th>\n",
       "      <td>0</td>\n",
       "      <td>invalid_keyword</td>\n",
       "      <td>invalid_location</td>\n",
       "      <td>Just happened a terrible car crash</td>\n",
       "      <td>6</td>\n",
       "      <td>6</td>\n",
       "      <td>2</td>\n",
       "      <td>0</td>\n",
       "      <td>0</td>\n",
       "      <td>0</td>\n",
       "      <td>just happened a terrible car crash</td>\n",
       "      <td>just happened a terrible car crash</td>\n",
       "    </tr>\n",
       "    <tr>\n",
       "      <th>1</th>\n",
       "      <td>2</td>\n",
       "      <td>invalid_keyword</td>\n",
       "      <td>invalid_location</td>\n",
       "      <td>Heard about #earthquake is different cities, s...</td>\n",
       "      <td>9</td>\n",
       "      <td>9</td>\n",
       "      <td>2</td>\n",
       "      <td>0</td>\n",
       "      <td>1</td>\n",
       "      <td>0</td>\n",
       "      <td>heard about #earthquake is different cities, s...</td>\n",
       "      <td>heard about earthquake is different cities sta...</td>\n",
       "    </tr>\n",
       "    <tr>\n",
       "      <th>2</th>\n",
       "      <td>3</td>\n",
       "      <td>invalid_keyword</td>\n",
       "      <td>invalid_location</td>\n",
       "      <td>there is a forest fire at spot pond, geese are...</td>\n",
       "      <td>19</td>\n",
       "      <td>19</td>\n",
       "      <td>10</td>\n",
       "      <td>0</td>\n",
       "      <td>0</td>\n",
       "      <td>0</td>\n",
       "      <td>there is a forest fire at spot pond, geese are...</td>\n",
       "      <td>there is a forest fire at spot pond geese are ...</td>\n",
       "    </tr>\n",
       "    <tr>\n",
       "      <th>3</th>\n",
       "      <td>9</td>\n",
       "      <td>invalid_keyword</td>\n",
       "      <td>invalid_location</td>\n",
       "      <td>Apocalypse lighting. #Spokane #wildfires</td>\n",
       "      <td>4</td>\n",
       "      <td>4</td>\n",
       "      <td>0</td>\n",
       "      <td>0</td>\n",
       "      <td>2</td>\n",
       "      <td>0</td>\n",
       "      <td>apocalypse lighting. #spokane #wildfires</td>\n",
       "      <td>apocalypse lighting spokane wildfires</td>\n",
       "    </tr>\n",
       "    <tr>\n",
       "      <th>4</th>\n",
       "      <td>11</td>\n",
       "      <td>invalid_keyword</td>\n",
       "      <td>invalid_location</td>\n",
       "      <td>Typhoon Soudelor kills 28 in China and Taiwan</td>\n",
       "      <td>8</td>\n",
       "      <td>8</td>\n",
       "      <td>2</td>\n",
       "      <td>0</td>\n",
       "      <td>0</td>\n",
       "      <td>0</td>\n",
       "      <td>typhoon soudelor kills 28 in china and taiwan</td>\n",
       "      <td>typhoon soudelor kills 28 in china and taiwan</td>\n",
       "    </tr>\n",
       "  </tbody>\n",
       "</table>\n",
       "</div>"
      ],
      "text/plain": [
       "   id          keyword          location  \\\n",
       "0   0  invalid_keyword  invalid_location   \n",
       "1   2  invalid_keyword  invalid_location   \n",
       "2   3  invalid_keyword  invalid_location   \n",
       "3   9  invalid_keyword  invalid_location   \n",
       "4  11  invalid_keyword  invalid_location   \n",
       "\n",
       "                                                text  word_count  \\\n",
       "0                 Just happened a terrible car crash           6   \n",
       "1  Heard about #earthquake is different cities, s...           9   \n",
       "2  there is a forest fire at spot pond, geese are...          19   \n",
       "3           Apocalypse lighting. #Spokane #wildfires           4   \n",
       "4      Typhoon Soudelor kills 28 in China and Taiwan           8   \n",
       "\n",
       "   unique_word_count  stop_word_count  url_count  hashtag_count  \\\n",
       "0                  6                2          0              0   \n",
       "1                  9                2          0              1   \n",
       "2                 19               10          0              0   \n",
       "3                  4                0          0              2   \n",
       "4                  8                2          0              0   \n",
       "\n",
       "   mention_count                                       lowered_text  \\\n",
       "0              0                 just happened a terrible car crash   \n",
       "1              0  heard about #earthquake is different cities, s...   \n",
       "2              0  there is a forest fire at spot pond, geese are...   \n",
       "3              0           apocalypse lighting. #spokane #wildfires   \n",
       "4              0      typhoon soudelor kills 28 in china and taiwan   \n",
       "\n",
       "                                          clean_text  \n",
       "0                 just happened a terrible car crash  \n",
       "1  heard about earthquake is different cities sta...  \n",
       "2  there is a forest fire at spot pond geese are ...  \n",
       "3              apocalypse lighting spokane wildfires  \n",
       "4      typhoon soudelor kills 28 in china and taiwan  "
      ]
     },
     "execution_count": 28,
     "metadata": {},
     "output_type": "execute_result"
    }
   ],
   "source": [
    "test_df.head()"
   ]
  },
  {
   "cell_type": "code",
   "execution_count": 29,
   "id": "f9cbaaea-6c9d-422f-ac2c-a1df7581d035",
   "metadata": {
    "tags": []
   },
   "outputs": [
    {
     "data": {
      "text/html": [
       "<div>\n",
       "<style scoped>\n",
       "    .dataframe tbody tr th:only-of-type {\n",
       "        vertical-align: middle;\n",
       "    }\n",
       "\n",
       "    .dataframe tbody tr th {\n",
       "        vertical-align: top;\n",
       "    }\n",
       "\n",
       "    .dataframe thead th {\n",
       "        text-align: right;\n",
       "    }\n",
       "</style>\n",
       "<table border=\"1\" class=\"dataframe\">\n",
       "  <thead>\n",
       "    <tr style=\"text-align: right;\">\n",
       "      <th></th>\n",
       "      <th>id</th>\n",
       "      <th>target</th>\n",
       "    </tr>\n",
       "  </thead>\n",
       "  <tbody>\n",
       "    <tr>\n",
       "      <th>0</th>\n",
       "      <td>0</td>\n",
       "      <td>1</td>\n",
       "    </tr>\n",
       "    <tr>\n",
       "      <th>1</th>\n",
       "      <td>2</td>\n",
       "      <td>1</td>\n",
       "    </tr>\n",
       "    <tr>\n",
       "      <th>2</th>\n",
       "      <td>3</td>\n",
       "      <td>1</td>\n",
       "    </tr>\n",
       "    <tr>\n",
       "      <th>3</th>\n",
       "      <td>9</td>\n",
       "      <td>1</td>\n",
       "    </tr>\n",
       "    <tr>\n",
       "      <th>4</th>\n",
       "      <td>11</td>\n",
       "      <td>1</td>\n",
       "    </tr>\n",
       "    <tr>\n",
       "      <th>...</th>\n",
       "      <td>...</td>\n",
       "      <td>...</td>\n",
       "    </tr>\n",
       "    <tr>\n",
       "      <th>3258</th>\n",
       "      <td>10861</td>\n",
       "      <td>1</td>\n",
       "    </tr>\n",
       "    <tr>\n",
       "      <th>3259</th>\n",
       "      <td>10865</td>\n",
       "      <td>0</td>\n",
       "    </tr>\n",
       "    <tr>\n",
       "      <th>3260</th>\n",
       "      <td>10868</td>\n",
       "      <td>1</td>\n",
       "    </tr>\n",
       "    <tr>\n",
       "      <th>3261</th>\n",
       "      <td>10874</td>\n",
       "      <td>1</td>\n",
       "    </tr>\n",
       "    <tr>\n",
       "      <th>3262</th>\n",
       "      <td>10875</td>\n",
       "      <td>1</td>\n",
       "    </tr>\n",
       "  </tbody>\n",
       "</table>\n",
       "<p>3263 rows × 2 columns</p>\n",
       "</div>"
      ],
      "text/plain": [
       "         id  target\n",
       "0         0       1\n",
       "1         2       1\n",
       "2         3       1\n",
       "3         9       1\n",
       "4        11       1\n",
       "...     ...     ...\n",
       "3258  10861       1\n",
       "3259  10865       0\n",
       "3260  10868       1\n",
       "3261  10874       1\n",
       "3262  10875       1\n",
       "\n",
       "[3263 rows x 2 columns]"
      ]
     },
     "execution_count": 29,
     "metadata": {},
     "output_type": "execute_result"
    }
   ],
   "source": [
    "X_test_df = test_df['clean_text']\n",
    "X_test_df = tfidf_vectorizer.transform(X_test_df)\n",
    "predictions = nb_classifier.predict(X_test_df)\n",
    "\n",
    "ids = test_df['id']\n",
    "prediction_df = pd.DataFrame({'id':ids, 'target':predictions})\n",
    "prediction_df"
   ]
  },
  {
   "cell_type": "code",
   "execution_count": 30,
   "id": "cc2559ce-9fee-44fd-bf06-b94c15ee6a78",
   "metadata": {
    "tags": []
   },
   "outputs": [],
   "source": [
    "prediction_df.to_csv('submission.csv', index=False)"
   ]
  },
  {
   "cell_type": "code",
   "execution_count": null,
   "id": "3de470ec-ccba-4a70-815d-3ea0b9e804ab",
   "metadata": {},
   "outputs": [],
   "source": []
  }
 ],
 "metadata": {
  "kernelspec": {
   "display_name": "Python 3 (ipykernel)",
   "language": "python",
   "name": "python3"
  },
  "language_info": {
   "codemirror_mode": {
    "name": "ipython",
    "version": 3
   },
   "file_extension": ".py",
   "mimetype": "text/x-python",
   "name": "python",
   "nbconvert_exporter": "python",
   "pygments_lexer": "ipython3",
   "version": "3.10.5"
  }
 },
 "nbformat": 4,
 "nbformat_minor": 5
}
